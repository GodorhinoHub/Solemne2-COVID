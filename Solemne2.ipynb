{
 "cells": [
  {
   "cell_type": "code",
   "execution_count": 2,
   "metadata": {},
   "outputs": [
    {
     "output_type": "stream",
     "name": "stdout",
     "text": [
      "Ingrese los valores->\n",
      "Listo para iniciar->\n"
     ]
    }
   ],
   "source": [
    "import pygad\n",
    "import numpy\n",
    "\n",
    "# Params\n",
    "print(\"Ingrese los valores->\")\n",
    "# Population\n",
    "initial_population = 50 #int(input(\"Tamaño población: \")) #50\n",
    "\n",
    "# Mutations\n",
    "mutation_type = \"random\" # Type of the mutation operator.\n",
    "mutation_percent_genes = 5 #int(input(\"Mutación: \")) #5%\n",
    "\n",
    "# Generations\n",
    "num_generations = 100 #int(input(\"Num Generaciones: \")) #100\n",
    "num_parents_mating = 7 # Number of solutions to be selected as parents in the mating pool.\n",
    "\n",
    "# Solutions\n",
    "sol_per_pop = 100 # Number of solutions in the population.\n",
    "num_genes = 10\n",
    "\n",
    "# Parents\n",
    "parent_selection_type = \"tournament\"  # Type of parent selection.\n",
    "keep_parents = 7 # Number of parents to keep in the next population. -1 means keep all parents and 0 means keep nothing.\n",
    "crossover_type = \"single_point\" # Type of the crossover operator.\n",
    "\n",
    "# Archive\n",
    "url_archive = input(\"Ubicación web del archivo: \") #url\n",
    "\n",
    "print(\"Listo para iniciar->\")"
   ]
  },
  {
   "cell_type": "code",
   "execution_count": 3,
   "metadata": {},
   "outputs": [
    {
     "output_type": "stream",
     "name": "stdout",
     "text": [
      "[[0 0 0 0 0 0 0 3 0 0]\n [2 0 0 0 0 0 0 0 0 0]\n [0 0 0 0 0 0 0 4 4 4]\n [0 0 0 0 0 0 0 4 4 4]\n [0 0 0 0 0 0 0 0 0 0]\n [0 0 0 0 0 0 0 0 0 0]\n [0 0 0 0 0 0 4 4 4 4]\n [0 0 0 0 0 2 4 4 4 4]\n [0 0 0 0 0 0 4 4 4 4]\n [3 0 0 0 0 0 4 4 4 4]]\n"
     ]
    }
   ],
   "source": [
    "n = 10 # Tamaño del cuadro\n",
    "M = 2 # Cantidad de mesas (2)\n",
    "P = 2 # Cantidad de puertas (3)\n",
    "O = 25 # Espacio no ocupable (4)\n",
    "\n",
    "# Archive\n",
    "plano = numpy.array([\n",
    "    [0,0,0,0,0,0,0,3,0,0],\n",
    "    [2,0,0,0,0,0,0,0,0,0],\n",
    "    [0,0,0,0,0,0,0,4,4,4],\n",
    "    [0,0,0,0,0,0,0,4,4,4],\n",
    "    [0,0,0,0,0,0,0,0,0,0],\n",
    "    [0,0,0,0,0,0,0,0,0,0],\n",
    "    [0,0,0,0,0,0,4,4,4,4],\n",
    "    [0,0,0,0,0,2,4,4,4,4],\n",
    "    [0,0,0,0,0,0,4,4,4,4],\n",
    "    [3,0,0,0,0,0,4,4,4,4]\n",
    "])\n",
    "print(plano)\n",
    "# Reading archive\n"
   ]
  },
  {
   "cell_type": "code",
   "execution_count": null,
   "metadata": {},
   "outputs": [],
   "source": [
    "\n",
    "\n",
    "\n",
    "def fitness_func(solution, solution_idx):\n",
    "    # Calculating the fitness value of each solution in the current population.\n",
    "    # The fitness function calulates the sum of products between each input and its corresponding weight.\n",
    "\n",
    "    return fitness\n",
    "\n",
    "fitness_function = fitness_func\n",
    "\n",
    "last_fitness = 0\n",
    "def callback_generation(ga_instance):\n",
    "    global last_fitness\n",
    "    print(\"Generation = {generation}\".format(generation=ga_instance.generations_completed),\n",
    "    \",   Fitness Best   = {fitness:.3f}\".format(fitness=ga_instance.best_solution()[1]),\n",
    "    \",   Change     = {change:.3f}\".format(change=ga_instance.best_solution()[1] - last_fitness))\n",
    "    last_fitness = ga_instance.best_solution()[1]\n",
    "\n",
    "# Creating an instance of the GA class inside the ga module. Some parameters are initialized within the constructor.\n",
    "ga_instance = pygad.GA(num_generations=num_generations,\n",
    "                       num_parents_mating=num_parents_mating,\n",
    "                       sol_per_pop=sol_per_pop,\n",
    "                       num_genes=num_genes,\n",
    "                       fitness_func=fitness_function,\n",
    "                       parent_selection_type=parent_selection_type,\n",
    "                       gene_space=[0, 1],\n",
    "                       keep_parents=keep_parents,\n",
    "                       crossover_type=crossover_type,\n",
    "                       mutation_type=mutation_type,\n",
    "                       mutation_percent_genes=mutation_percent_genes,\n",
    "                       callback_generation=callback_generation)\n",
    "\n",
    "# Running the GA to optimize the parameters of the function.\n",
    "ga_instance.run()\n",
    "\n",
    "# Returning the details of the best solution.\n",
    "solution, solution_fitness, solution_idx = ga_instance.best_solution()\n",
    "print(\"Parameters of the best solution : {solution}\".format(solution=solution))\n",
    "print(\"Fitness value of the best solution = {solution_fitness}\".format(solution_fitness=solution_fitness))\n",
    "\n",
    "print(\"Index of the best solution : {solution_idx}\".format(solution_idx=solution_idx))\n",
    "\n",
    "if ga_instance.best_solution_generation != -1:\n",
    "    print(\"Best fitness value reached after {best_solution_generation} generations.\".format(best_solution_generation=ga_instance.best_solution_generation))\n",
    "\n",
    "# Saving the GA instance.\n",
    "filename = 'genetic' # The filename to which the instance is saved. The name is without extension.\n",
    "ga_instance.save(filename=filename)\n",
    "\n",
    "# Loading the saved GA instance.\n",
    "loaded_ga_instance = pygad.load(filename=filename)\n",
    "loaded_ga_instance.plot_result()"
   ]
  }
 ],
 "metadata": {
  "kernelspec": {
   "display_name": "Python 3.8.3 64-bit ('base')",
   "language": "python",
   "name": "python38364bitbasea464c63fc0fd46578fc36e0e5c872d33"
  },
  "language_info": {
   "codemirror_mode": {
    "name": "ipython",
    "version": 3
   },
   "file_extension": ".py",
   "mimetype": "text/x-python",
   "name": "python",
   "nbconvert_exporter": "python",
   "pygments_lexer": "ipython3",
   "version": "3.8.3-final"
  }
 },
 "nbformat": 4,
 "nbformat_minor": 4
}